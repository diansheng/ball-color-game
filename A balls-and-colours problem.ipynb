{
 "cells": [
  {
   "cell_type": "markdown",
   "metadata": {},
   "source": [
    "**Problems**:\n",
    "You have a bag containing *n* balls of *n* different colours. Select 2 balls randomly (in order, so there's a first and a second), repaint the first in the same colour as the second, and replace both balls in the bag. Keep on doing this once per minute until all balls in the bag are the same colour.\n",
    "**What is the expected time this will take?**"
   ]
  },
  {
   "cell_type": "markdown",
   "metadata": {},
   "source": [
    "reference: https://puzzling.stackexchange.com/questions/16049/how-long-until-all-balls-are-the-same-colour"
   ]
  },
  {
   "cell_type": "code",
   "execution_count": 13,
   "metadata": {
    "collapsed": true
   },
   "outputs": [],
   "source": [
    "import random\n",
    "\n",
    "n=3\n",
    "balls = range(n)\n",
    "all_same = True\n",
    "class Game(object):\n",
    "    def __init__(self, n=2):\n",
    "        self.num_balls = n\n",
    "        self.balls = range(n)\n",
    "    \n",
    "    def _is_all_same(self):\n",
    "        return len(set(self.balls))==1\n",
    "\n",
    "    def get_num_rounds(self):\n",
    "        rounds = 0\n",
    "        while not self._is_all_same():\n",
    "            first, second = random.sample(range(self.num_balls), 2)\n",
    "            self.balls[second]=self.balls[first]\n",
    "            rounds += 1\n",
    "        return rounds\n"
   ]
  },
  {
   "cell_type": "code",
   "execution_count": 15,
   "metadata": {},
   "outputs": [
    {
     "name": "stdout",
     "output_type": "stream",
     "text": [
      "number of balls: 2 . Average rounds: 1\n",
      "number of balls: 3 . Average rounds: 4\n",
      "number of balls: 4 . Average rounds: 8\n",
      "number of balls: 5 . Average rounds: 16\n",
      "number of balls: 6 . Average rounds: 25\n",
      "number of balls: 7 . Average rounds: 37\n",
      "number of balls: 8 . Average rounds: 49\n",
      "number of balls: 9 . Average rounds: 64\n",
      "number of balls: 10 . Average rounds: 81\n",
      "number of balls: 11 . Average rounds: 101\n",
      "number of balls: 12 . Average rounds: 118\n",
      "number of balls: 13 . Average rounds: 144\n",
      "number of balls: 14 . Average rounds: 167\n",
      "number of balls: 15 . Average rounds: 193\n",
      "number of balls: 16 . Average rounds: 220\n",
      "number of balls: 17 . Average rounds: 253\n",
      "number of balls: 18 . Average rounds: 283\n",
      "number of balls: 19 . Average rounds: 326\n"
     ]
    }
   ],
   "source": [
    "x = []\n",
    "y = []\n",
    "for i in range(2,20):\n",
    "    total = 0\n",
    "    iterations = 1000\n",
    "    for j in range(iterations):\n",
    "        g = Game(i)\n",
    "        total += g.get_num_rounds()\n",
    "    mean = float(total/iterations)\n",
    "    print 'number of balls: %d . Average rounds: %d' % (i, mean)\n",
    "    x.append(i)\n",
    "    y.append(mean)"
   ]
  },
  {
   "cell_type": "code",
   "execution_count": 16,
   "metadata": {
    "collapsed": true
   },
   "outputs": [],
   "source": [
    "#import matplotlib\n",
    "#import numpy as np\n",
    "import matplotlib.pyplot as plt\n",
    "%matplotlib inline  "
   ]
  },
  {
   "cell_type": "code",
   "execution_count": 41,
   "metadata": {},
   "outputs": [
    {
     "data": {
      "text/plain": [
       "<matplotlib.collections.PathCollection at 0x110e70310>"
      ]
     },
     "execution_count": 41,
     "metadata": {},
     "output_type": "execute_result"
    },
    {
     "data": {
      "image/png": "[encoded data removed]",
      "text/plain": [
       "<matplotlib.figure.Figure at 0x110d5fed0>"
      ]
     },
     "metadata": {},
     "output_type": "display_data"
    }
   ],
   "source": [
    "plt.scatter(x,y)"
   ]
  },
  {
   "cell_type": "code",
   "execution_count": 37,
   "metadata": {},
   "outputs": [
    {
     "data": {
      "text/plain": [
       "[0, 1, 6, 7, 4, 5, 10, 11, 8, 9, 14, 15, 12, 13, 18, 19, 16, 17]"
      ]
     },
     "execution_count": 37,
     "metadata": {},
     "output_type": "execute_result"
    }
   ],
   "source": [
    "[ for a in x]"
   ]
  },
  {
   "cell_type": "code",
   "execution_count": 38,
   "metadata": {},
   "outputs": [
    {
     "data": {
      "text/plain": [
       "LinearRegression(copy_X=True, fit_intercept=True, n_jobs=1, normalize=False)"
      ]
     },
     "execution_count": 38,
     "metadata": {},
     "output_type": "execute_result"
    }
   ],
   "source": [
    "xx = [(a-1)*(a-1) for a in x]\n",
    "import numpy as np\n",
    "import pandas as pd\n",
    "from sklearn import datasets, linear_model\n",
    "\n",
    "df = pd.DataFrame({\n",
    "    'x':x,\n",
    "    'xx':xx,\n",
    "    'y':y\n",
    "})\n",
    "model = linear_model.LinearRegression()\n",
    "model.fit(df[['x','xx']], df['y'])"
   ]
  },
  {
   "cell_type": "code",
   "execution_count": 40,
   "metadata": {},
   "outputs": [
    {
     "name": "stdout",
     "output_type": "stream",
     "text": [
      "0.387899896801 [-0.0496646   0.99213106] 3.28245040706\n"
     ]
    }
   ],
   "source": [
    "expected = y\n",
    "predicted = model.predict(df[['x','xx']])\n",
    "# summarize the fit of the model\n",
    "mse = np.mean((predicted-expected)**2)\n",
    "print model.intercept_, model.coef_, mse, "
   ]
  },
  {
   "cell_type": "code",
   "execution_count": 42,
   "metadata": {},
   "outputs": [
    {
     "data": {
      "text/plain": [
       "<matplotlib.collections.PathCollection at 0x110d9b2d0>"
      ]
     },
     "execution_count": 42,
     "metadata": {},
     "output_type": "execute_result"
    },
    {
     "data": {
      "image/png": "[encoded data removed]",
      "text/plain": [
       "<matplotlib.figure.Figure at 0x106967590>"
      ]
     },
     "metadata": {},
     "output_type": "display_data"
    }
   ],
   "source": [
    "plt.scatter(x,predicted,c='r')\n",
    "plt.scatter(x,expected,c='b')"
   ]
  },
  {
   "cell_type": "code",
   "execution_count": null,
   "metadata": {
    "collapsed": true
   },
   "outputs": [],
   "source": []
  }
 ],
 "metadata": {
  "kernelspec": {
   "display_name": "Python 2",
   "language": "python",
   "name": "python2"
  },
  "language_info": {
   "codemirror_mode": {
    "name": "ipython",
    "version": 2
   },
   "file_extension": ".py",
   "mimetype": "text/x-python",
   "name": "python",
   "nbconvert_exporter": "python",
   "pygments_lexer": "ipython2",
   "version": "2.7.9"
  }
 },
 "nbformat": 4,
 "nbformat_minor": 2
}
